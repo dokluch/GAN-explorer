{
 "cells": [
  {
   "cell_type": "code",
   "execution_count": 1,
   "id": "smaller-bahrain",
   "metadata": {},
   "outputs": [],
   "source": [
    "from __future__ import print_function\n",
    "\n",
    "import os \n",
    "\n",
    "import pickle, torch\n",
    "\n",
    "import PIL\n",
    "from matplotlib.pyplot import imshow\n",
    "import numpy as np\n",
    "import IPython.display\n",
    "from IPython.display import Image, display, clear_output\n",
    "\n",
    "from ipywidgets import interact, interactive, fixed, interact_manual\n",
    "import ipywidgets as widgets\n",
    "from tqdm import tqdm\n",
    "\n",
    "import ipyplot\n",
    "\n",
    "\n",
    "%matplotlib inline"
   ]
  },
  {
   "cell_type": "code",
   "execution_count": 2,
   "id": "accompanied-airline",
   "metadata": {},
   "outputs": [],
   "source": [
    "torch.cuda.empty_cache()"
   ]
  },
  {
   "cell_type": "code",
   "execution_count": 10,
   "id": "assumed-labor",
   "metadata": {
    "tags": []
   },
   "outputs": [],
   "source": [
    "prefix = \"ArtGAN-balls\"\n",
    "network_latest_path = \"\"\n"
   ]
  },
  {
   "cell_type": "code",
   "execution_count": 11,
   "id": "integral-clarity",
   "metadata": {},
   "outputs": [],
   "source": [
    "with open(network_latest_path, 'rb') as f:\n",
    "    G = pickle.load(f)['G_ema'].cuda()  # torch.nn.Module\n",
    "z = torch.randn([1, G.z_dim]).cuda()    # latent codes\n",
    "c = None                                # class labels (not used in this example)\n",
    "img = G(z, c)                           # NCHW, float32, dynamic range [-1, +1]"
   ]
  },
  {
   "cell_type": "code",
   "execution_count": 12,
   "id": "humanitarian-interval",
   "metadata": {},
   "outputs": [],
   "source": [
    "def make_img_from_seed(seed_in = 0):\n",
    "    torch.manual_seed(seed_in)\n",
    "    z1 = torch.randn([1, G.z_dim]).cuda() \n",
    "\n",
    "    w = G.mapping(z1, c, truncation_psi=0.5, truncation_cutoff=8)\n",
    "    img = G.synthesis(w, noise_mode='const', force_fp32=True)\n",
    "\n",
    "    img = (img.permute(0, 2, 3, 1) * 127.5 + 128).clamp(0, 255).to(torch.uint8)\n",
    "    img = PIL.Image.fromarray(img[0].cpu().numpy(), 'RGB')\n",
    "\n",
    "    return(img)\n",
    "\n",
    "def make_img_from_vec(vec_in = 0):\n",
    "    w = G.mapping(vec_in, c, truncation_psi=0.7, truncation_cutoff=8)\n",
    "    img = G.synthesis(w, noise_mode='const', force_fp32=True)\n",
    "\n",
    "    img = (img.permute(0, 2, 3, 1) * 127.5 + 128).clamp(0, 255).to(torch.uint8)\n",
    "    img = PIL.Image.fromarray(img[0].cpu().numpy(), 'RGB')\n",
    "\n",
    "    return(img)\n",
    "    \n",
    "def seed2vec(seed_in = 0):\n",
    "    torch.manual_seed(seed_in)\n",
    "    z = torch.randn([1, G.z_dim]).cuda()\n",
    "    return z\n",
    "\n",
    "def generate_image(Gs, z, truncation_psi):\n",
    "    w = Gs.mapping(z, c, truncation_psi=0.7, truncation_cutoff=8)\n",
    "    img = Gs.synthesis(w, noise_mode='const', force_fp32=True)\n",
    "\n",
    "    img = (img.permute(0, 2, 3, 1) * 127.5 + 128).clamp(0, 255).to(torch.uint8)\n",
    "    img = PIL.Image.fromarray(img[0].cpu().numpy(), 'RGB')\n",
    "    return img"
   ]
  },
  {
   "cell_type": "code",
   "execution_count": 13,
   "id": "limited-guyana",
   "metadata": {
    "tags": []
   },
   "outputs": [
    {
     "data": {
      "application/vnd.jupyter.widget-view+json": {
       "model_id": "c41324411c4748bea8a99a3f1ad3a06f",
       "version_major": 2,
       "version_minor": 0
      },
      "text/plain": [
       "Output()"
      ]
     },
     "metadata": {},
     "output_type": "display_data"
    },
    {
     "data": {
      "application/vnd.jupyter.widget-view+json": {
       "model_id": "e44effc90a5a4c01931b9b9fcad0b792",
       "version_major": 2,
       "version_minor": 0
      },
      "text/plain": [
       "HBox(children=(Button(description='<<<', style=ButtonStyle()), Button(description='Get random seed', style=But…"
      ]
     },
     "metadata": {},
     "output_type": "display_data"
    },
    {
     "data": {
      "application/vnd.jupyter.widget-view+json": {
       "model_id": "4d9084ae68c549d89bfd9837b6a2207b",
       "version_major": 2,
       "version_minor": 0
      },
      "text/plain": [
       "HBox(children=(Button(description='Add seed', style=ButtonStyle()), Button(description='Remove last seed', sty…"
      ]
     },
     "metadata": {},
     "output_type": "display_data"
    },
    {
     "data": {
      "application/vnd.jupyter.widget-view+json": {
       "model_id": "6146e7ffaa8240609645a9f21e0fc26d",
       "version_major": 2,
       "version_minor": 0
      },
      "text/plain": [
       "Output()"
      ]
     },
     "metadata": {},
     "output_type": "display_data"
    }
   ],
   "source": [
    "button_get_random = widgets.Button(description=\"Get random seed\")\n",
    "button_prev = widgets.Button(description=\"<<<\")\n",
    "button_next = widgets.Button(description=\">>>\")\n",
    "buttons_line_1 = widgets.HBox([button_prev, button_get_random, button_next])\n",
    "\n",
    "output = widgets.Output()\n",
    "\n",
    "button_add_seed = widgets.Button(description=\"Add seed\")\n",
    "button_remove_last = widgets.Button(description=\"Remove last seed\")\n",
    "buttons_line_2 = widgets.HBox([button_add_seed, button_remove_last])\n",
    "\n",
    "output2 = widgets.Output()\n",
    "\n",
    "def on_save_clicked(b):\n",
    "    with output2:\n",
    "        clear_output()\n",
    "        if(b.seeds):\n",
    "            if b.seeds[-1] != button_get_random.seed:\n",
    "                b.seeds.append(button_get_random.seed)\n",
    "                b.imgs.append(button_get_random.img)\n",
    "        else:\n",
    "            b.seeds.append(button_get_random.seed)\n",
    "            b.imgs.append(button_get_random.img)\n",
    "        print(b.seeds)\n",
    "        display_seeds_as_imgs()\n",
    "\n",
    "def on_remove_last(b):\n",
    "    with output2:\n",
    "        clear_output()\n",
    "        if(button_add_seed.seeds):\n",
    "            button_add_seed.seeds = button_add_seed.seeds[:-1]\n",
    "            button_add_seed.imgs = button_add_seed.imgs[:-1]\n",
    "            print(button_add_seed.seeds)\n",
    "            display_seeds_as_imgs()\n",
    "    \n",
    "    \n",
    "def display_seeds_as_imgs():\n",
    "    if button_add_seed.imgs:\n",
    "        ipyplot.plot_images(button_add_seed.imgs, labels = button_add_seed.seeds, img_width=200)\n",
    "\n",
    "def on_button_clicked(b):\n",
    "    with output:\n",
    "        clear_output()\n",
    "        seed_gen = np.random.randint(0, 400000)\n",
    "        print(seed_gen)\n",
    "        b.img = make_img_from_seed(seed_gen).resize((256,256))\n",
    "        display(b.img)\n",
    "        b.seed = seed_gen\n",
    "        b.prev_seeds.append(b.seed)\n",
    "        b.pos = len(b.prev_seeds)\n",
    "        print(b.prev_seeds)\n",
    "        \n",
    "def on_prev(b):\n",
    "    with output:\n",
    "        if len(button_get_random.prev_seeds) > 1 and button_get_random.pos >= 1:\n",
    "            button_get_random.pos -= 1\n",
    "            button_get_random.seed = button_get_random.prev_seeds[button_get_random.pos]\n",
    "            button_get_random.img = make_img_from_seed( button_get_random.seed).resize((256,256))\n",
    "            clear_output()\n",
    "            print(button_get_random.seed)\n",
    "            display(button_get_random.img)\n",
    "            print(button_get_random.prev_seeds)\n",
    "            \n",
    "def on_next(b):\n",
    "    with output:\n",
    "        if len(button_get_random.prev_seeds) > 1 and button_get_random.pos < len(button_get_random.prev_seeds) - 1:\n",
    "            button_get_random.pos += 1\n",
    "            button_get_random.seed = button_get_random.prev_seeds[button_get_random.pos]\n",
    "            button_get_random.img = make_img_from_seed( button_get_random.seed).resize((256,256))\n",
    "            clear_output()\n",
    "            print(button_get_random.seed)\n",
    "            display(button_get_random.img)\n",
    "            print(button_get_random.prev_seeds)\n",
    "        \n",
    "        \n",
    "button_add_seed.seeds = []\n",
    "button_add_seed.imgs = []\n",
    "button_add_seed.on_click(on_save_clicked)\n",
    "button_remove_last.on_click(on_remove_last)\n",
    "\n",
    "button_get_random.prev_seeds = []\n",
    "button_get_random.on_click(on_button_clicked)\n",
    "button_prev.on_click(on_prev)\n",
    "button_next.on_click(on_next)\n",
    "\n",
    "display(output, buttons_line_1, buttons_line_2, output2)\n",
    "on_button_clicked(button_get_random)"
   ]
  },
  {
   "cell_type": "code",
   "execution_count": 7,
   "id": "together-syndrome",
   "metadata": {
    "tags": []
   },
   "outputs": [
    {
     "data": {
      "application/vnd.jupyter.widget-view+json": {
       "model_id": "4d60470c09d94334a1e6ea810feeb42d",
       "version_major": 2,
       "version_minor": 0
      },
      "text/plain": [
       "HBox(children=(IntSlider(value=100, description='Frames between seeds', max=1000, min=10, step=10), FloatSlide…"
      ]
     },
     "metadata": {},
     "output_type": "display_data"
    },
    {
     "data": {
      "application/vnd.jupyter.widget-view+json": {
       "model_id": "6fbdbbae34bd47e98105676bb4e7587e",
       "version_major": 2,
       "version_minor": 0
      },
      "text/plain": [
       "HBox(children=(Button(description='Render sequence', style=ButtonStyle()), Button(description='Compile video',…"
      ]
     },
     "metadata": {},
     "output_type": "display_data"
    },
    {
     "data": {
      "application/vnd.jupyter.widget-view+json": {
       "model_id": "4e8eb62ce7644d75a337db65190a58c2",
       "version_major": 2,
       "version_minor": 0
      },
      "text/plain": [
       "Output()"
      ]
     },
     "metadata": {},
     "output_type": "display_data"
    }
   ],
   "source": [
    "from tqdm.notebook import tqdm\n",
    "import math\n",
    "from PIL import Image\n",
    "\n",
    "#DEFAULTS\n",
    "STEPS = 100\n",
    "easy_ease = 1\n",
    "loop = True\n",
    "sequence_folder = \"D:\\\\ML_Datasets\\\\Generator\\\\tmp\"\n",
    "video_folder = \"D:\\\\ML_Datasets\\\\Generator\"\n",
    "SEEDS = [39644, 35189, 4531, 11258, 7987] #MANUANAL\n",
    "FPS = 25\n",
    "\n",
    "def easing(x, beta):\n",
    "    b = beta\n",
    "    return 1 / (1 + math.pow(x / (1 - x + 1e-8), -b))\n",
    "\n",
    "\n",
    "def render_seq_bttn_click(b):\n",
    "    with output3:\n",
    "        clear_output()\n",
    "        assert button_add_seed.seeds\n",
    "        seeds = button_add_seed.seeds\n",
    "        render_sequence(seeds, steps_slider.value, sequence_folder, easing_slider.value, loop_chkbx.value)\n",
    "\n",
    "def render_vid_bttn_click(b):\n",
    "    with output3:\n",
    "        clear_output()\n",
    "        assert len(os.listdir(sequence_folder)) != 0\n",
    "        assert button_add_seed.seeds\n",
    "        SEEDS = button_add_seed.seeds\n",
    "        \n",
    "        create_video(sequence_folder, video_folder, fps_text.value, SEEDS)\n",
    "\n",
    "def render_sequence(seeds, num_steps, output_folder, easy_ease = 1, loop = True):\n",
    "    STEPS = num_steps\n",
    "\n",
    "    if loop and seeds[-1] != seeds[0]:\n",
    "        seeds.append(seeds[0])\n",
    "\n",
    "    !del \"D:\\ML_Datasets\\Generator\\*.png\"  /S /Q >nul 2>&1\n",
    "\n",
    "    idx = 0\n",
    "\n",
    "    tqdm_progress = tqdm(range(len(seeds)-1), desc = \"\", leave=True)\n",
    "\n",
    "    for i in tqdm_progress:\n",
    "        v1 = seed2vec(seeds[i])\n",
    "        v2 = seed2vec(seeds[i+1])\n",
    "\n",
    "        diff = v2 - v1\n",
    "        step = diff / STEPS\n",
    "        current = v1.clone().detach()\n",
    "\n",
    "        for s, j in enumerate(range(STEPS)):\n",
    "            tqdm_progress.set_description(f\"State: {i + 1}/{len(seeds) - 1} | Frame: {i*STEPS + s} / {(len(seeds) - 1) * STEPS}\")\n",
    "            tqdm_progress.refresh()\n",
    "\n",
    "            now = current + diff * easing((s + 0.01 ) / STEPS, easy_ease)\n",
    "            img = generate_image(G, now, 1.0)\n",
    "            img.save(os.path.join(output_folder,f'frame-{idx}.png'))\n",
    "            idx+=1\n",
    "            \n",
    "    print(\"Rendering video\")\n",
    "    create_video(sequence_folder, video_folder, fps_text.value, seeds)\n",
    "\n",
    "def create_video(sequence_folder, output_folder, FPS, seeds):\n",
    "    seeds_list = \"_\".join([str(s) for s in seeds])\n",
    "    input_sequence = os.path.join(sequence_folder, \"frame-%d.png\")\n",
    "    img = Image.open(os.path.join(sequence_folder, os.listdir(sequence_folder)[0]))\n",
    "    output_file = os.path.join(output_folder, str(img.width), f\"{prefix}_{network_num}_{seeds_list}.mp4\")\n",
    "    !ffmpeg -r {FPS} -i {input_sequence} -c:v libx264 -b:v 15M -pix_fmt yuv420p {output_file} -y\n",
    "    clear_output()\n",
    "    \n",
    "    \n",
    "steps_slider = widgets.IntSlider(min=10, max=1000, step=10, value = STEPS, description='Frames between seeds')\n",
    "easing_slider = widgets.FloatSlider(min=1, max=2, step=0.01, value = easy_ease, description='Easing')\n",
    "fps_text = widgets.Dropdown(options=['5', '10', '12', '15', '20', '24', '25', '30'],value=str(FPS),description='FPS',disabled=False)\n",
    "loop_chkbx = widgets.Checkbox(value=loop,description='Loop',disabled=False,indent=False)\n",
    "sliders = widgets.HBox([steps_slider, easing_slider, fps_text, loop_chkbx])\n",
    "\n",
    "render_seq_bttn = widgets.Button(description=\"Render sequence\")\n",
    "render_vid_bttn = widgets.Button(description=\"Compile video\")\n",
    "bttns = widgets.HBox([render_seq_bttn, render_vid_bttn])\n",
    "\n",
    "render_seq_bttn.on_click(render_seq_bttn_click)\n",
    "render_vid_bttn.on_click(render_vid_bttn_click)\n",
    "\n",
    "output3 = widgets.Output()\n",
    "\n",
    "display(sliders, bttns, output3)\n",
    "    \n",
    "# "
   ]
  },
  {
   "cell_type": "code",
   "execution_count": null,
   "id": "statistical-shower",
   "metadata": {},
   "outputs": [],
   "source": [
    "!ffmpeg -r 25 -i D:\\\\ML_Datasets\\\\Generator\\\\tmp\\\\frame-%d.png -i D://ML_Datasets/ArtGAN/techno.m4a -shortest -c:v libx264 -b:v 25M -pix_fmt yuv420p D:\\\\ML_Datasets\\\\Generator\\\\{img.width}\\\\{prefix}_{network_num}_{seeds_list}.mp4 -y"
   ]
  },
  {
   "cell_type": "code",
   "execution_count": 18,
   "id": "inner-partnership",
   "metadata": {
    "tags": []
   },
   "outputs": [
    {
     "data": {
      "application/vnd.jupyter.widget-view+json": {
       "model_id": "bc5337709a354ec5ad931100f3e98c6c",
       "version_major": 2,
       "version_minor": 0
      },
      "text/plain": [
       "HBox(children=(IntSlider(value=0, description='Dim', max=511), FloatSlider(value=0.0, description='Delta', max…"
      ]
     },
     "metadata": {},
     "output_type": "display_data"
    },
    {
     "data": {
      "application/vnd.jupyter.widget-view+json": {
       "model_id": "9e7a779b5e69420aa3c7d575398ccc21",
       "version_major": 2,
       "version_minor": 0
      },
      "text/plain": [
       "Output()"
      ]
     },
     "metadata": {},
     "output_type": "display_data"
    }
   ],
   "source": [
    "dim = widgets.IntSlider(min=0, max=511, step=1, description='Dim')\n",
    "delta = widgets.FloatSlider(min=-3, max=3, step=0.01, description='Delta')\n",
    "seed = widgets.IntSlider(min = 1, max = 40000, description='Seed')\n",
    "ui = widgets.HBox([dim, delta, seed])\n",
    "\n",
    "def f(dim, delta, seed):\n",
    "    vec = seed2vec(seed)\n",
    "#     vec[0][dim] =  delta\n",
    "    torch.manual_seed(dim)\n",
    "    hole_vec = (torch.rand(size=vec.shape) < 0.1).int().to(\"cuda\")\n",
    "    shift_vec = (hole_vec * torch.rand(size=vec.shape).to(\"cuda\"))\n",
    "#     print(shift_vec)\n",
    "    vec += shift_vec * delta\n",
    "    img = make_img_from_vec(vec)\n",
    "    display(img.resize((512,512)))\n",
    "    return(vec)\n",
    "    \n",
    "\n",
    "out = widgets.interactive_output(f, {'dim': dim, 'delta': delta, 'seed': seed})\n",
    "\n",
    "display(ui, out)"
   ]
  }
 ],
 "metadata": {
  "kernelspec": {
   "display_name": "Python 3",
   "language": "python",
   "name": "python3"
  },
  "language_info": {
   "codemirror_mode": {
    "name": "ipython",
    "version": 3
   },
   "file_extension": ".py",
   "mimetype": "text/x-python",
   "name": "python",
   "nbconvert_exporter": "python",
   "pygments_lexer": "ipython3",
   "version": "3.7.10"
  }
 },
 "nbformat": 4,
 "nbformat_minor": 5
}